{
 "cells": [
  {
   "cell_type": "markdown",
   "id": "41bea628-761b-4af0-b43e-068f2f632acb",
   "metadata": {},
   "source": [
    "Week 4: Intermediate Assignment"
   ]
  },
  {
   "cell_type": "markdown",
   "id": "059297cb-46b0-4746-aa7a-3d5172795914",
   "metadata": {},
   "source": [
    "Assignment 4: Advanced Python - File\r\n",
    "Handling and Error Management"
   ]
  },
  {
   "cell_type": "markdown",
   "id": "ffad31f1-ec72-4856-a36c-70636a56deb0",
   "metadata": {},
   "source": [
    "i-Write a program that reads a text file, counts the\r\n",
    "number of lines, words, and characters, and\r\n",
    "writes the results to a new file."
   ]
  },
  {
   "cell_type": "code",
   "execution_count": 29,
   "id": "ae97975b-1c09-40b7-a2c5-cb69910063ab",
   "metadata": {},
   "outputs": [
    {
     "name": "stdout",
     "output_type": "stream",
     "text": [
      "ubaid ullahllah I'm the student of Electrical Engineering at UET Lahore.\n",
      "python was included in my 1st semester course , the basics of python language came to me from that course \n",
      "then in this summer i joined the course of Python Ai and Data Science offered by KICS department UET Lahore.\n",
      "and now i'm doing internship at  Xenosis FuturePro Internship.\n",
      "The number of lines are:  4\n",
      "The number of words are:  60\n",
      "The number of chars are:  348\n"
     ]
    }
   ],
   "source": [
    "f1 = open(\"ubaid.txt\",\"r\")\n",
    "print(f1.read())\n",
    "f1.seek(0)\n",
    "no_lines = 0\n",
    "no_words = 0\n",
    "no_chars = 0\n",
    "\n",
    "for line in f1:\n",
    "    no_lines += 1\n",
    "    line = line.strip(\"\\n\")\n",
    "    no_chars += len(line)\n",
    "    list1 = line.split()\n",
    "    no_words += len(list1)\n",
    "f1.close()\n",
    "print(\"The number of lines are: \",no_lines)\n",
    "print(\"The number of words are: \",no_words)\n",
    "print(\"The number of chars are: \",no_chars)\n"
   ]
  },
  {
   "cell_type": "raw",
   "id": "bdfef491-6d9b-408e-92cb-2164530b3659",
   "metadata": {},
   "source": []
  },
  {
   "cell_type": "markdown",
   "id": "5b50a6c6-9c74-4784-97ac-56e2f7967b2d",
   "metadata": {},
   "source": [
    "ii-Create a script that processes a CSV file\r\n",
    "containing student grades and calculates the\r\n",
    "average grade for each student."
   ]
  },
  {
   "cell_type": "code",
   "execution_count": 38,
   "id": "756ea8b1-e734-43f9-a1a0-a908a4e4bab9",
   "metadata": {},
   "outputs": [],
   "source": [
    "import pandas as pd\n"
   ]
  },
  {
   "cell_type": "code",
   "execution_count": 44,
   "id": "4fa18f2b-baa8-4926-8010-fb24ddf59770",
   "metadata": {},
   "outputs": [],
   "source": [
    "df_students = pd.read_csv(\"students_grade.csv\")"
   ]
  },
  {
   "cell_type": "code",
   "execution_count": 46,
   "id": "06cadf2e-d494-442b-8ff3-fec27d03bc45",
   "metadata": {},
   "outputs": [
    {
     "data": {
      "text/html": [
       "<div>\n",
       "<style scoped>\n",
       "    .dataframe tbody tr th:only-of-type {\n",
       "        vertical-align: middle;\n",
       "    }\n",
       "\n",
       "    .dataframe tbody tr th {\n",
       "        vertical-align: top;\n",
       "    }\n",
       "\n",
       "    .dataframe thead th {\n",
       "        text-align: right;\n",
       "    }\n",
       "</style>\n",
       "<table border=\"1\" class=\"dataframe\">\n",
       "  <thead>\n",
       "    <tr style=\"text-align: right;\">\n",
       "      <th></th>\n",
       "      <th>Name</th>\n",
       "      <th>Math</th>\n",
       "      <th>Science</th>\n",
       "      <th>English</th>\n",
       "    </tr>\n",
       "  </thead>\n",
       "  <tbody>\n",
       "    <tr>\n",
       "      <th>0</th>\n",
       "      <td>Alice</td>\n",
       "      <td>85</td>\n",
       "      <td>92</td>\n",
       "      <td>78</td>\n",
       "    </tr>\n",
       "    <tr>\n",
       "      <th>1</th>\n",
       "      <td>Bob</td>\n",
       "      <td>90</td>\n",
       "      <td>88</td>\n",
       "      <td>84</td>\n",
       "    </tr>\n",
       "    <tr>\n",
       "      <th>2</th>\n",
       "      <td>Charlie</td>\n",
       "      <td>78</td>\n",
       "      <td>73</td>\n",
       "      <td>80</td>\n",
       "    </tr>\n",
       "    <tr>\n",
       "      <th>3</th>\n",
       "      <td>David</td>\n",
       "      <td>82</td>\n",
       "      <td>79</td>\n",
       "      <td>88</td>\n",
       "    </tr>\n",
       "    <tr>\n",
       "      <th>4</th>\n",
       "      <td>Eva</td>\n",
       "      <td>91</td>\n",
       "      <td>85</td>\n",
       "      <td>87</td>\n",
       "    </tr>\n",
       "  </tbody>\n",
       "</table>\n",
       "</div>"
      ],
      "text/plain": [
       "      Name  Math  Science  English\n",
       "0    Alice    85       92       78\n",
       "1      Bob    90       88       84\n",
       "2  Charlie    78       73       80\n",
       "3    David    82       79       88\n",
       "4      Eva    91       85       87"
      ]
     },
     "execution_count": 46,
     "metadata": {},
     "output_type": "execute_result"
    }
   ],
   "source": [
    "df_students"
   ]
  },
  {
   "cell_type": "code",
   "execution_count": 64,
   "id": "0d53eca4-75f3-4208-b800-c75f9ba6411f",
   "metadata": {},
   "outputs": [
    {
     "data": {
      "text/html": [
       "<div>\n",
       "<style scoped>\n",
       "    .dataframe tbody tr th:only-of-type {\n",
       "        vertical-align: middle;\n",
       "    }\n",
       "\n",
       "    .dataframe tbody tr th {\n",
       "        vertical-align: top;\n",
       "    }\n",
       "\n",
       "    .dataframe thead th {\n",
       "        text-align: right;\n",
       "    }\n",
       "</style>\n",
       "<table border=\"1\" class=\"dataframe\">\n",
       "  <thead>\n",
       "    <tr style=\"text-align: right;\">\n",
       "      <th></th>\n",
       "      <th>Name</th>\n",
       "      <th>Math</th>\n",
       "      <th>Science</th>\n",
       "      <th>English</th>\n",
       "      <th>Average</th>\n",
       "    </tr>\n",
       "  </thead>\n",
       "  <tbody>\n",
       "    <tr>\n",
       "      <th>0</th>\n",
       "      <td>Alice</td>\n",
       "      <td>85</td>\n",
       "      <td>92</td>\n",
       "      <td>78</td>\n",
       "      <td>85.00</td>\n",
       "    </tr>\n",
       "    <tr>\n",
       "      <th>1</th>\n",
       "      <td>Bob</td>\n",
       "      <td>90</td>\n",
       "      <td>88</td>\n",
       "      <td>84</td>\n",
       "      <td>87.33</td>\n",
       "    </tr>\n",
       "    <tr>\n",
       "      <th>2</th>\n",
       "      <td>Charlie</td>\n",
       "      <td>78</td>\n",
       "      <td>73</td>\n",
       "      <td>80</td>\n",
       "      <td>77.00</td>\n",
       "    </tr>\n",
       "    <tr>\n",
       "      <th>3</th>\n",
       "      <td>David</td>\n",
       "      <td>82</td>\n",
       "      <td>79</td>\n",
       "      <td>88</td>\n",
       "      <td>83.00</td>\n",
       "    </tr>\n",
       "    <tr>\n",
       "      <th>4</th>\n",
       "      <td>Eva</td>\n",
       "      <td>91</td>\n",
       "      <td>85</td>\n",
       "      <td>87</td>\n",
       "      <td>87.67</td>\n",
       "    </tr>\n",
       "  </tbody>\n",
       "</table>\n",
       "</div>"
      ],
      "text/plain": [
       "      Name  Math  Science  English  Average\n",
       "0    Alice    85       92       78    85.00\n",
       "1      Bob    90       88       84    87.33\n",
       "2  Charlie    78       73       80    77.00\n",
       "3    David    82       79       88    83.00\n",
       "4      Eva    91       85       87    87.67"
      ]
     },
     "execution_count": 64,
     "metadata": {},
     "output_type": "execute_result"
    }
   ],
   "source": [
    "df_students[\"Average\"] = (df_students[\"Math\"]+df_students[\"Science\"]+df_students[\"English\"])/3\n",
    "df_students.round(2)"
   ]
  },
  {
   "cell_type": "raw",
   "id": "1a280c4d-4ecb-4683-bbfe-eb9bb89808a4",
   "metadata": {},
   "source": []
  },
  {
   "cell_type": "markdown",
   "id": "6aa35638-958d-48a8-83d5-6f756ad19eda",
   "metadata": {},
   "source": [
    "iii-Develop a program that handles multiple types\r\n",
    "of exceptions (e.g., FileNotFoundError, ValueError)\r\n",
    "and logs errors to a file."
   ]
  },
  {
   "cell_type": "code",
   "execution_count": 79,
   "id": "e5cc8de8-a2bf-46bb-b407-1d4df4d93367",
   "metadata": {},
   "outputs": [
    {
     "name": "stdin",
     "output_type": "stream",
     "text": [
      "Enter the path of the file to read:  ubaidullah\n"
     ]
    },
    {
     "name": "stdout",
     "output_type": "stream",
     "text": [
      "2024-08-24 16:56:33,112:ERROR:FileNotFoundError: [Errno 2] No such file or directory: 'ubaidullah'\n",
      "2024-08-24 16:58:25,367:ERROR:FileNotFoundError: [Errno 2] No such file or directory: 'ubaidullah'\n",
      "\n"
     ]
    }
   ],
   "source": [
    "import logging\n",
    "logging.basicConfig(filename='error_log.txt', level=logging.ERROR,\n",
    "                    format='%(asctime)s:%(levelname)s:%(message)s')\n",
    "\n",
    "def read_file(file_path):\n",
    "    try:\n",
    "        f = open(\"error_log.txt\",\"r+\")\n",
    "        data = f.read()\n",
    "        print(data)\n",
    "    except FileNotFoundError as fnf_error:\n",
    "        logging.error(f\"FileNotFoundError: {fnf_error}\")\n",
    "        print(\"Error: The file was not found. Please check the file path.\")\n",
    "    except ValueError as val_error:\n",
    "        logging.error(f\"ValueError: {val_error}\")\n",
    "        print(\"Error: There was a value error. Please check your input.\")\n",
    "    except Exception as e:\n",
    "        logging.error(f\"Unexpected error: {e}\")\n",
    "        print(\"An unexpected error occurred.\")\n",
    "\n",
    "def main():\n",
    "    file_path = input(\"Enter the path of the file to read: \")\n",
    "    read_file(file_path)\n",
    "\n",
    "if __name__ == \"__main__\":\n",
    "    main()\n"
   ]
  },
  {
   "cell_type": "code",
   "execution_count": null,
   "id": "bab13f39-5e81-44e0-ba94-402d0ea604c7",
   "metadata": {},
   "outputs": [],
   "source": []
  }
 ],
 "metadata": {
  "kernelspec": {
   "display_name": "Python 3 (ipykernel)",
   "language": "python",
   "name": "python3"
  },
  "language_info": {
   "codemirror_mode": {
    "name": "ipython",
    "version": 3
   },
   "file_extension": ".py",
   "mimetype": "text/x-python",
   "name": "python",
   "nbconvert_exporter": "python",
   "pygments_lexer": "ipython3",
   "version": "3.12.4"
  }
 },
 "nbformat": 4,
 "nbformat_minor": 5
}
